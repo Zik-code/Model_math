{
 "cells": [
  {
   "cell_type": "markdown",
   "id": "10b7a801",
   "metadata": {},
   "source": [
    "线性规划即问题可以转化为一系列的线性不等式求解最优解"
   ]
  },
  {
   "cell_type": "markdown",
   "id": "31bf4c33",
   "metadata": {},
   "source": [
    "![image1](./images/线性规划1.jpg)"
   ]
  },
  {
   "cell_type": "code",
   "execution_count": null,
   "id": "98da11a0",
   "metadata": {},
   "outputs": [
    {
     "name": "stdout",
     "output_type": "stream",
     "text": [
      "最优值: 26.0\n",
      "最优解: [2. 6.]\n"
     ]
    }
   ],
   "source": [
    "from scipy.optimize import linprog\n",
    "\n",
    "# 目标函数系数，这里是最大化问题，所以取负\n",
    "c = [-4, -3]\n",
    "\n",
    "# 不等式约束矩阵A和向量b\n",
    "# 小于号才为正数\n",
    "A = [[2, 1], [1, 1], [0, 1]]\n",
    "b = [10, 8, 7]\n",
    "\n",
    "# 决策变量的边界，这里是x1 >= 0, x2 >= 0\n",
    "x0_bounds = (0, None)\n",
    "x1_bounds = (0, None)\n",
    "\n",
    "# 求解线性规划问题\n",
    "res = linprog(c, A_ub=A, b_ub=b, bounds=[x0_bounds, x1_bounds])\n",
    "\n",
    "# 输出结果\n",
    "print('最优值:', -res.fun)  # 因为目标函数取负了，这里还原\n",
    "print('最优解:', res.x)"
   ]
  },
  {
   "cell_type": "markdown",
   "id": "8fe2487a",
   "metadata": {},
   "source": [
    "## 包含等式求解\n",
    "#### 目标函数\n",
    "maxz = 2x1+3x2-5x3\n",
    "#### 约束条件\n",
    "x1+x2+x3=7\n",
    "\n",
    "2x1-5x2+x3 >= 10\n",
    "\n",
    "x1+3x2+x3 <= 12\n",
    "\n",
    "x1,x2,x3 >= 0\n"
   ]
  },
  {
   "cell_type": "code",
   "execution_count": 4,
   "id": "4c124e4e",
   "metadata": {},
   "outputs": [
    {
     "name": "stdout",
     "output_type": "stream",
     "text": [
      "最优解：x1 = 6.4286, x2 = 0.5714, x3 = 0.0000\n",
      "最优值（最大化目标函数 z）：14.5714\n"
     ]
    }
   ],
   "source": [
    "from scipy.optimize import linprog\n",
    "import numpy as np\n",
    "\n",
    "# 目标函数系数（最大化转为最小化：-2x1 -3x2 +5x3）\n",
    "c = [-2, -3, 5]\n",
    "\n",
    "# 不等式约束矩阵 A 和向量 b\n",
    "# 2x1 -5x2 +x3 ≥10 转换为 -2x1 +5x2 -x3 ≤-10；x1 +3x2 +x3 ≤12 保持不变\n",
    "A = [[-2, 5, -1], [1, 3, 1]]\n",
    "b = [-10, 12]\n",
    "\n",
    "# 等式约束矩阵 Aeq 和向量 beq（x1 +x2 +x3 =7）\n",
    "Aeq = [[1, 1, 1]]\n",
    "beq = [7]\n",
    "\n",
    "# 变量边界（x1, x2, x3 ≥0）\n",
    "bounds = [(0, None), (0, None), (0, None)]\n",
    "\n",
    "# 求解线性规划\n",
    "result = linprog(c, A_ub=A, b_ub=b, A_eq=Aeq, b_eq=beq, bounds=bounds)\n",
    "\n",
    "# 输出结果\n",
    "if result.success:\n",
    "    print(f\"最优解：x1 = {result.x[0]:.4f}, x2 = {result.x[1]:.4f}, x3 = {result.x[2]:.4f}\")\n",
    "    print(f\"最优值（最大化目标函数 z）：{ -result.fun:.4f}\")\n",
    "else:\n",
    "    print(\"求解失败，原因：\", result.message)"
   ]
  },
  {
   "cell_type": "markdown",
   "id": "10a2a3dd",
   "metadata": {},
   "source": []
  }
 ],
 "metadata": {
  "kernelspec": {
   "display_name": "base",
   "language": "python",
   "name": "python3"
  },
  "language_info": {
   "codemirror_mode": {
    "name": "ipython",
    "version": 3
   },
   "file_extension": ".py",
   "mimetype": "text/x-python",
   "name": "python",
   "nbconvert_exporter": "python",
   "pygments_lexer": "ipython3",
   "version": "3.12.4"
  }
 },
 "nbformat": 4,
 "nbformat_minor": 5
}

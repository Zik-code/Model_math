{
 "cells": [
  {
   "cell_type": "markdown",
   "id": "10b7a801",
   "metadata": {},
   "source": [
    "线性规划即问题可以转化为一系列的线性不等式求解最优解"
   ]
  },
  {
   "cell_type": "markdown",
   "id": "31bf4c33",
   "metadata": {},
   "source": [
    "![image1](./images/线性规划1.jpg)"
   ]
  },
  {
   "cell_type": "markdown",
   "id": "f0826278",
   "metadata": {},
   "source": [
    "注意：linprog原本是求解目标最小值问题，这里最大值问题需要将系数取负"
   ]
  },
  {
   "cell_type": "code",
   "execution_count": null,
   "id": "98da11a0",
   "metadata": {},
   "outputs": [
    {
     "name": "stdout",
     "output_type": "stream",
     "text": [
      "最优值: 26.0\n",
      "最优解: [2. 6.]\n"
     ]
    }
   ],
   "source": [
    "from scipy.optimize import linprog\n",
    "\n",
    "# 目标函数系数，这里是最大化问题，所以取负\n",
    "c = [-4, -3]\n",
    "\n",
    "# 不等式约束矩阵A和向量b\n",
    "# 小于号才为正数\n",
    "A = [[2, 1], [1, 1], [0, 1]]\n",
    "b = [10, 8, 7] # 资源向量\n",
    "\n",
    "# 决策变量的边界，这里是x1 >= 0, x2 >= 0\n",
    "x0_bounds = (0, None)\n",
    "x1_bounds = (0, None)\n",
    "\n",
    "# 求解线性规划问题\n",
    "res = linprog(c, A_ub=A, b_ub=b, bounds=[x0_bounds, x1_bounds])\n",
    "\n",
    "# 输出结果\n",
    "print('最优值:', -res.fun)  # 因为目标函数取负了，这里还原\n",
    "print('最优解:', res.x)"
   ]
  },
  {
   "cell_type": "markdown",
   "id": "8fe2487a",
   "metadata": {},
   "source": [
    "## 包含等式求解\n",
    "#### 目标函数\n",
    "maxz = 2x1+3x2-5x3\n",
    "#### 约束条件\n",
    "x1+x2+x3=7\n",
    "\n",
    "2x1-5x2+x3 >= 10\n",
    "\n",
    "x1+3x2+x3 <= 12\n",
    "\n",
    "x1,x2,x3 >= 0\n"
   ]
  },
  {
   "cell_type": "code",
   "execution_count": null,
   "id": "4c124e4e",
   "metadata": {},
   "outputs": [
    {
     "name": "stdout",
     "output_type": "stream",
     "text": [
      "最优解：x1 = 6.4286, x2 = 0.5714, x3 = 0.0000\n",
      "最优值（最大化目标函数 z）：14.5714\n"
     ]
    }
   ],
   "source": [
    "from scipy.optimize import linprog\n",
    "import numpy as np\n",
    "\n",
    "# 目标函数系数（最大化转为最小化：-2x1 -3x2 +5x3）\n",
    "c = [-2, -3, 5]\n",
    "\n",
    "# 不等式约束矩阵 A 和向量 b\n",
    "# 2x1 -5x2 +x3 ≥10 转换为 -2x1 +5x2 -x3 ≤-10；x1 +3x2 +x3 ≤12 保持不变\n",
    "A = [[-2, 5, -1], [1, 3, 1]]\n",
    "b = [-10, 12]\n",
    "\n",
    "# 等式约束矩阵 Aeq 和向量 beq（x1 +x2 +x3 =7）\n",
    "Aeq = [[1, 1, 1]]\n",
    "beq = [7]\n",
    "\n",
    "# 变量边界（x1, x2, x3 ≥0）\n",
    "bounds = [(0, None), (0, None), (0, None)]\n",
    "\n",
    "# 求解线性规划\n",
    "result = linprog(c, A_ub=A, b_ub=b, A_eq=Aeq, b_eq=beq, bounds=bounds)\n",
    "\n"
   ]
  },
  {
   "cell_type": "markdown",
   "id": "7846415d",
   "metadata": {},
   "source": [
    "可以转化为线性规划的问题\n",
    "\n",
    "如绝对值函数"
   ]
  },
  {
   "cell_type": "markdown",
   "id": "dcb0d991",
   "metadata": {},
   "source": [
    "min z = |x1| + 2|x2| + 3|x3|+ 4|x4|\n",
    "\n",
    "u = (|x|+x)/2   v = ((|x|-x)/2)\n",
    "\n",
    "|x| = u+v x= u-v\n",
    "\n",
    "min z = u1+v1 + 2（u2+v2）+3(u3+v3)+4(u4+v4)\n",
    "\n",
    "min z = u1+2u2+3u3+4u4+v1+2v2+3v3+4v4 \n",
    "\n"
   ]
  },
  {
   "cell_type": "code",
   "execution_count": null,
   "id": "23fa4172",
   "metadata": {},
   "outputs": [
    {
     "name": "stdout",
     "output_type": "stream",
     "text": [
      "最优值: 2.0\n",
      "最优解: [0. 0. 0. 0. 2. 0. 0. 0.]\n"
     ]
    }
   ],
   "source": [
    "from scipy.optimize import linprog\n",
    "import numpy as np\n",
    "\n",
    "# 目标函数系数（最大化转为最小化：-2x1 -3x2 +5x3）\n",
    "c = [1,2,3,4,1,2,3,4]\n",
    "\n",
    "# 不等式约束矩阵 A 和向量 b\n",
    "# 2x1 -5x2 +x3 ≥10 转换为 -2x1 +5x2 -x3 ≤-10；x1 +3x2 +x3 ≤12 保持不变\n",
    "A = [[1,-1,-1,1,-1,1,1,-1], [1,-1,1,-3,-1,1,-1,3],[1,-1,-2,3,-1,1,2,-3]]\n",
    "b = [-2,-1,-0.5]\n",
    "\n",
    "\n",
    "# 求解线性规划\n",
    "result = linprog(c, A_ub=A, b_ub=b)\n",
    "\n",
    "# 输出结果\n",
    "print('最优值:', result.fun)  # 最2优值\n",
    "print('最优解:', result.x)  # 最优解\n",
    "\n"
   ]
  },
  {
   "cell_type": "markdown",
   "id": "20ee2d48",
   "metadata": {},
   "source": [
    "用pulp库求解这道题的线性规划问题\n"
   ]
  },
  {
   "cell_type": "code",
   "execution_count": 22,
   "id": "a351c7e8",
   "metadata": {},
   "outputs": [
    {
     "name": "stdout",
     "output_type": "stream",
     "text": [
      "最优解；\n",
      "x1 = -2.0\n",
      "x2 = 0.0\n",
      "x3 = 0.0\n",
      "x4 = 0.0\n",
      "最优值 z = 2.0\n"
     ]
    }
   ],
   "source": [
    "import pulp\n",
    "\n",
    "# 创建最小化问题\n",
    "prob = pulp.LpProblem(\"Minimize_z\", pulp.LpMinimize)\n",
    "\n",
    "# 定义变量\n",
    "u1 = pulp.LpVariable('u1', lowBound=0)\n",
    "v1 = pulp.LpVariable('v1', lowBound=0)\n",
    "u2 = pulp.LpVariable('u2', lowBound=0)\n",
    "v2 = pulp.LpVariable('v2', lowBound=0)\n",
    "u3 = pulp.LpVariable('u3', lowBound=0)\n",
    "v3 = pulp.LpVariable('v3', lowBound=0)\n",
    "u4 = pulp.LpVariable('u4', lowBound=0)\n",
    "v4 = pulp.LpVariable('v4', lowBound=0)\n",
    "\n",
    "# 构建目标函数\n",
    "prob += (u1 + v1) + 2 * (u2 + v2) + 3 * (u3 + v3) + 4 * (u4 + v4)\n",
    "\n",
    "# 添加约束条件\n",
    "prob += (u1 - v1) - (u2 - v2) - (u3 - v3) + (u4 - v4) <= -2\n",
    "prob += (u1 - v1) - (u2 - v2) + (u3 - v3) - 3 * (u4 - v4) <= -1\n",
    "prob += (u1 - v1) - (u2 - v2) - 2 * (u3 - v3) + 3 * (u4 - v4) <= -0.5\n",
    "\n",
    "# 求解问题\n",
    "prob.solve()\n",
    "\n",
    "# # 输出结果\n",
    "# print(\"Status:\", pulp.LpStatus[prob.status])\n",
    "# print(\"u1 =\", pulp.value(u1))\n",
    "# print(\"v1 =\", pulp.value(v1))\n",
    "# print(\"u2 =\", pulp.value(u2))\n",
    "# print(\"v2 =\", pulp.value(v2))\n",
    "# print(\"u3 =\", pulp.value(u3))\n",
    "# print(\"v3 =\", pulp.value(v3))\n",
    "# print(\"u4 =\", pulp.value(u4))\n",
    "# print(\"v4 =\", pulp.value(v4))\n",
    "\n",
    "# 计算原变量 x1, x2, x3, x4\n",
    "x1 = pulp.value(u1) - pulp.value(v1)\n",
    "x2 = pulp.value(u2) - pulp.value(v2)\n",
    "x3 = pulp.value(u3) - pulp.value(v3)\n",
    "x4 = pulp.value(u4) - pulp.value(v4)\n",
    "\n",
    "print(\"最优解；\")\n",
    "print(\"x1 =\", x1)\n",
    "print(\"x2 =\", x2)\n",
    "print(\"x3 =\", x3)\n",
    "print(\"x4 =\", x4)\n",
    "print(f\"最优值 z = {pulp.value(prob.objective)}\")"
   ]
  },
  {
   "cell_type": "markdown",
   "id": "35e1db0d",
   "metadata": {},
   "source": [
    "练习题1.3 \n",
    "\n",
    "求工厂最大利润\n",
    "\n",
    "使用pulp库来做，用linprog需要转化为矩阵，容易出错，比较麻烦"
   ]
  },
  {
   "cell_type": "code",
   "execution_count": null,
   "id": "670f12d7",
   "metadata": {},
   "outputs": [
    {
     "name": "stdout",
     "output_type": "stream",
     "text": [
      "最优解：\n",
      "x1 = 1200.0\n",
      "x2 = 230.04926\n",
      "x3 = 0.0\n",
      "x4 = 858.62069\n",
      "x5 = 571.42857\n",
      "x6 = 0.0\n",
      "x7 = 500.0\n",
      "x8 = 500.0\n",
      "x9 = 324.13793\n",
      "最优值 z = 1146.5665012605712\n"
     ]
    }
   ],
   "source": [
    "import pulp\n",
    "\n",
    "# 创建线性规划问题对象，这里是最小化问题\n",
    "prob = pulp.LpProblem(\"Max_Cost\", pulp.LpMaximize)\n",
    "\n",
    "# 定义决策变量\n",
    "x1 = pulp.LpVariable('x1', lowBound=0)\n",
    "x2 = pulp.LpVariable('x2', lowBound=0)\n",
    "x3 = pulp.LpVariable('x3', lowBound=0)\n",
    "x4 = pulp.LpVariable('x4', lowBound=0)\n",
    "x5 = pulp.LpVariable('x5', lowBound=0)\n",
    "x6 = pulp.LpVariable('x6', lowBound=0)\n",
    "x7 = pulp.LpVariable('x7', lowBound=0)\n",
    "x8 = pulp.LpVariable('x8', lowBound=0)\n",
    "x9 = pulp.LpVariable('x9', lowBound=0)\n",
    "\n",
    "# 定义目标函数,直接列出算式\n",
    "prob += (1.25 - 0.25) * (x1 + x2) + (2 - 0.35) * x8 + (2.8 - 0.5) * x9 - \\\n",
    "        (300 / 6000) * (5 * x1 + 10 * x6) - (321 / 10000) * (7 * x2 + 9 * x7 + 12 * x9) - \\\n",
    "        (250 / 4000) * (6 * x3 + 8 * x8) - (783 / 7000) * (4 * x4 + 11 * x9) - (200 / 4000) * 7 * x5\n",
    "\n",
    "# 添加约束条件\n",
    "prob += 5 * x1 + 10 * x6 <= 6000\n",
    "prob += 7 * x2 + 9 * x7 + 12 * x9 <= 10000\n",
    "prob += 6 * x3 + 8 * x8 <= 4000\n",
    "prob += 4 * x4 + 11 * x9 <= 7000\n",
    "prob += 7 * x5 <= 4000\n",
    "prob += x1 + x2 == x3 + x4 + x5\n",
    "prob += x6 + x7 == x8\n",
    "\n",
    "# 求解线性规划问题\n",
    "prob.solve()\n",
    "\n",
    "# 输出结果\n",
    "print(\"最优解：\")\n",
    "print(f\"x1 = {pulp.value(x1)}\")\n",
    "print(f\"x2 = {pulp.value(x2)}\")\n",
    "print(f\"x3 = {pulp.value(x3)}\")\n",
    "print(f\"x4 = {pulp.value(x4)}\")\n",
    "print(f\"x5 = {pulp.value(x5)}\")\n",
    "print(f\"x6 = {pulp.value(x6)}\")\n",
    "print(f\"x7 = {pulp.value(x7)}\")\n",
    "print(f\"x8 = {pulp.value(x8)}\")\n",
    "print(f\"x9 = {pulp.value(x9)}\")\n",
    "print(f\"最优值 z = {pulp.value(prob.objective)}\")"
   ]
  }
 ],
 "metadata": {
  "kernelspec": {
   "display_name": "base",
   "language": "python",
   "name": "python3"
  },
  "language_info": {
   "codemirror_mode": {
    "name": "ipython",
    "version": 3
   },
   "file_extension": ".py",
   "mimetype": "text/x-python",
   "name": "python",
   "nbconvert_exporter": "python",
   "pygments_lexer": "ipython3",
   "version": "3.12.4"
  }
 },
 "nbformat": 4,
 "nbformat_minor": 5
}
